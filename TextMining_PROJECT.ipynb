{
  "nbformat": 4,
  "nbformat_minor": 0,
  "metadata": {
    "colab": {
      "name": "TextMining-PROJECT.ipynb",
      "provenance": [],
      "collapsed_sections": [],
      "include_colab_link": true
    },
    "kernelspec": {
      "name": "python3",
      "display_name": "Python 3"
    },
    "accelerator": "GPU"
  },
  "cells": [
    {
      "cell_type": "markdown",
      "metadata": {
        "id": "view-in-github",
        "colab_type": "text"
      },
      "source": [
        "<a href=\"https://colab.research.google.com/github/sushmitha-mani278/Advanced-Text-Mining/blob/main/TextMining_PROJECT.ipynb\" target=\"_parent\"><img src=\"https://colab.research.google.com/assets/colab-badge.svg\" alt=\"Open In Colab\"/></a>"
      ]
    },
    {
      "cell_type": "code",
      "metadata": {
        "id": "lr_3aDveKU1g"
      },
      "source": [
        "#TEXT SUMMARIZATION (BERTSUM, GPT2, XLnet, Cosine Similarity)\n",
        "#Text Mining Project\n",
        "#Bhuvanesh Jeevarathinam, Sushmitha Mani"
      ],
      "execution_count": null,
      "outputs": []
    },
    {
      "cell_type": "markdown",
      "metadata": {
        "id": "Gy3vRmWJWAe0"
      },
      "source": [
        "Installation of necessary packages:"
      ]
    },
    {
      "cell_type": "code",
      "metadata": {
        "id": "sL_CUUXgLU2a",
        "colab": {
          "base_uri": "https://localhost:8080/"
        },
        "outputId": "455682ec-cb4b-4a4e-f275-cb51bf05fc58"
      },
      "source": [
        "!pip install bert-extractive-summarizer==0.4.2"
      ],
      "execution_count": null,
      "outputs": [
        {
          "output_type": "stream",
          "text": [
            "Collecting bert-extractive-summarizer==0.4.2\n",
            "  Downloading https://files.pythonhosted.org/packages/23/1d/71f0a5c7f81b1a87d4428a6a935e9ddeb5e662e41512952e11bd10533cd9/bert-extractive-summarizer-0.4.2.tar.gz\n",
            "Collecting transformers\n",
            "\u001b[?25l  Downloading https://files.pythonhosted.org/packages/3a/83/e74092e7f24a08d751aa59b37a9fc572b2e4af3918cb66f7766c3affb1b4/transformers-3.5.1-py3-none-any.whl (1.3MB)\n",
            "\u001b[K     |████████████████████████████████| 1.3MB 17.8MB/s \n",
            "\u001b[?25hRequirement already satisfied: scikit-learn in /usr/local/lib/python3.6/dist-packages (from bert-extractive-summarizer==0.4.2) (0.22.2.post1)\n",
            "Requirement already satisfied: spacy in /usr/local/lib/python3.6/dist-packages (from bert-extractive-summarizer==0.4.2) (2.2.4)\n",
            "Collecting sacremoses\n",
            "\u001b[?25l  Downloading https://files.pythonhosted.org/packages/7d/34/09d19aff26edcc8eb2a01bed8e98f13a1537005d31e95233fd48216eed10/sacremoses-0.0.43.tar.gz (883kB)\n",
            "\u001b[K     |████████████████████████████████| 890kB 50.3MB/s \n",
            "\u001b[?25hRequirement already satisfied: requests in /usr/local/lib/python3.6/dist-packages (from transformers->bert-extractive-summarizer==0.4.2) (2.23.0)\n",
            "Requirement already satisfied: packaging in /usr/local/lib/python3.6/dist-packages (from transformers->bert-extractive-summarizer==0.4.2) (20.4)\n",
            "Requirement already satisfied: filelock in /usr/local/lib/python3.6/dist-packages (from transformers->bert-extractive-summarizer==0.4.2) (3.0.12)\n",
            "Requirement already satisfied: protobuf in /usr/local/lib/python3.6/dist-packages (from transformers->bert-extractive-summarizer==0.4.2) (3.12.4)\n",
            "Requirement already satisfied: dataclasses; python_version < \"3.7\" in /usr/local/lib/python3.6/dist-packages (from transformers->bert-extractive-summarizer==0.4.2) (0.8)\n",
            "Requirement already satisfied: numpy in /usr/local/lib/python3.6/dist-packages (from transformers->bert-extractive-summarizer==0.4.2) (1.18.5)\n",
            "Collecting tokenizers==0.9.3\n",
            "\u001b[?25l  Downloading https://files.pythonhosted.org/packages/4c/34/b39eb9994bc3c999270b69c9eea40ecc6f0e97991dba28282b9fd32d44ee/tokenizers-0.9.3-cp36-cp36m-manylinux1_x86_64.whl (2.9MB)\n",
            "\u001b[K     |████████████████████████████████| 2.9MB 50.4MB/s \n",
            "\u001b[?25hRequirement already satisfied: tqdm>=4.27 in /usr/local/lib/python3.6/dist-packages (from transformers->bert-extractive-summarizer==0.4.2) (4.41.1)\n",
            "Collecting sentencepiece==0.1.91\n",
            "\u001b[?25l  Downloading https://files.pythonhosted.org/packages/d4/a4/d0a884c4300004a78cca907a6ff9a5e9fe4f090f5d95ab341c53d28cbc58/sentencepiece-0.1.91-cp36-cp36m-manylinux1_x86_64.whl (1.1MB)\n",
            "\u001b[K     |████████████████████████████████| 1.1MB 48.5MB/s \n",
            "\u001b[?25hRequirement already satisfied: regex!=2019.12.17 in /usr/local/lib/python3.6/dist-packages (from transformers->bert-extractive-summarizer==0.4.2) (2019.12.20)\n",
            "Requirement already satisfied: scipy>=0.17.0 in /usr/local/lib/python3.6/dist-packages (from scikit-learn->bert-extractive-summarizer==0.4.2) (1.4.1)\n",
            "Requirement already satisfied: joblib>=0.11 in /usr/local/lib/python3.6/dist-packages (from scikit-learn->bert-extractive-summarizer==0.4.2) (0.17.0)\n",
            "Requirement already satisfied: preshed<3.1.0,>=3.0.2 in /usr/local/lib/python3.6/dist-packages (from spacy->bert-extractive-summarizer==0.4.2) (3.0.4)\n",
            "Requirement already satisfied: setuptools in /usr/local/lib/python3.6/dist-packages (from spacy->bert-extractive-summarizer==0.4.2) (50.3.2)\n",
            "Requirement already satisfied: thinc==7.4.0 in /usr/local/lib/python3.6/dist-packages (from spacy->bert-extractive-summarizer==0.4.2) (7.4.0)\n",
            "Requirement already satisfied: plac<1.2.0,>=0.9.6 in /usr/local/lib/python3.6/dist-packages (from spacy->bert-extractive-summarizer==0.4.2) (1.1.3)\n",
            "Requirement already satisfied: blis<0.5.0,>=0.4.0 in /usr/local/lib/python3.6/dist-packages (from spacy->bert-extractive-summarizer==0.4.2) (0.4.1)\n",
            "Requirement already satisfied: wasabi<1.1.0,>=0.4.0 in /usr/local/lib/python3.6/dist-packages (from spacy->bert-extractive-summarizer==0.4.2) (0.8.0)\n",
            "Requirement already satisfied: catalogue<1.1.0,>=0.0.7 in /usr/local/lib/python3.6/dist-packages (from spacy->bert-extractive-summarizer==0.4.2) (1.0.0)\n",
            "Requirement already satisfied: srsly<1.1.0,>=1.0.2 in /usr/local/lib/python3.6/dist-packages (from spacy->bert-extractive-summarizer==0.4.2) (1.0.4)\n",
            "Requirement already satisfied: cymem<2.1.0,>=2.0.2 in /usr/local/lib/python3.6/dist-packages (from spacy->bert-extractive-summarizer==0.4.2) (2.0.4)\n",
            "Requirement already satisfied: murmurhash<1.1.0,>=0.28.0 in /usr/local/lib/python3.6/dist-packages (from spacy->bert-extractive-summarizer==0.4.2) (1.0.4)\n",
            "Requirement already satisfied: six in /usr/local/lib/python3.6/dist-packages (from sacremoses->transformers->bert-extractive-summarizer==0.4.2) (1.15.0)\n",
            "Requirement already satisfied: click in /usr/local/lib/python3.6/dist-packages (from sacremoses->transformers->bert-extractive-summarizer==0.4.2) (7.1.2)\n",
            "Requirement already satisfied: urllib3!=1.25.0,!=1.25.1,<1.26,>=1.21.1 in /usr/local/lib/python3.6/dist-packages (from requests->transformers->bert-extractive-summarizer==0.4.2) (1.24.3)\n",
            "Requirement already satisfied: idna<3,>=2.5 in /usr/local/lib/python3.6/dist-packages (from requests->transformers->bert-extractive-summarizer==0.4.2) (2.10)\n",
            "Requirement already satisfied: chardet<4,>=3.0.2 in /usr/local/lib/python3.6/dist-packages (from requests->transformers->bert-extractive-summarizer==0.4.2) (3.0.4)\n",
            "Requirement already satisfied: certifi>=2017.4.17 in /usr/local/lib/python3.6/dist-packages (from requests->transformers->bert-extractive-summarizer==0.4.2) (2020.11.8)\n",
            "Requirement already satisfied: pyparsing>=2.0.2 in /usr/local/lib/python3.6/dist-packages (from packaging->transformers->bert-extractive-summarizer==0.4.2) (2.4.7)\n",
            "Requirement already satisfied: importlib-metadata>=0.20; python_version < \"3.8\" in /usr/local/lib/python3.6/dist-packages (from catalogue<1.1.0,>=0.0.7->spacy->bert-extractive-summarizer==0.4.2) (2.0.0)\n",
            "Requirement already satisfied: zipp>=0.5 in /usr/local/lib/python3.6/dist-packages (from importlib-metadata>=0.20; python_version < \"3.8\"->catalogue<1.1.0,>=0.0.7->spacy->bert-extractive-summarizer==0.4.2) (3.4.0)\n",
            "Building wheels for collected packages: bert-extractive-summarizer, sacremoses\n",
            "  Building wheel for bert-extractive-summarizer (setup.py) ... \u001b[?25l\u001b[?25hdone\n",
            "  Created wheel for bert-extractive-summarizer: filename=bert_extractive_summarizer-0.4.2-cp36-none-any.whl size=13712 sha256=5403afe88f067788fdb3204c334f05cdfe7fac22cb5938bef1f5685bdd4eebb9\n",
            "  Stored in directory: /root/.cache/pip/wheels/13/bc/30/654eb9e657177a56cba927c5a20b6cd01fb229b1ed2bf9b371\n",
            "  Building wheel for sacremoses (setup.py) ... \u001b[?25l\u001b[?25hdone\n",
            "  Created wheel for sacremoses: filename=sacremoses-0.0.43-cp36-none-any.whl size=893257 sha256=ab81dbb11fd71e0bc0036702a076f972bb8712f8907d44dc9b69095eaa926da8\n",
            "  Stored in directory: /root/.cache/pip/wheels/29/3c/fd/7ce5c3f0666dab31a50123635e6fb5e19ceb42ce38d4e58f45\n",
            "Successfully built bert-extractive-summarizer sacremoses\n",
            "Installing collected packages: sacremoses, tokenizers, sentencepiece, transformers, bert-extractive-summarizer\n",
            "Successfully installed bert-extractive-summarizer-0.4.2 sacremoses-0.0.43 sentencepiece-0.1.91 tokenizers-0.9.3 transformers-3.5.1\n"
          ],
          "name": "stdout"
        }
      ]
    },
    {
      "cell_type": "code",
      "metadata": {
        "id": "gO4KjEH3LU41",
        "colab": {
          "base_uri": "https://localhost:8080/"
        },
        "outputId": "b1f7e906-c168-4ca0-bcf2-cb8f273733e4"
      },
      "source": [
        "!pip install transformers==2.2.0"
      ],
      "execution_count": null,
      "outputs": [
        {
          "output_type": "stream",
          "text": [
            "Collecting transformers==2.2.0\n",
            "\u001b[?25l  Downloading https://files.pythonhosted.org/packages/ec/e7/0a1babead1b79afabb654fbec0a052e0d833ba4205a6dfd98b1aeda9c82e/transformers-2.2.0-py3-none-any.whl (360kB)\n",
            "\r\u001b[K     |█                               | 10kB 24.2MB/s eta 0:00:01\r\u001b[K     |█▉                              | 20kB 28.0MB/s eta 0:00:01\r\u001b[K     |██▊                             | 30kB 26.4MB/s eta 0:00:01\r\u001b[K     |███▋                            | 40kB 22.7MB/s eta 0:00:01\r\u001b[K     |████▌                           | 51kB 23.5MB/s eta 0:00:01\r\u001b[K     |█████▌                          | 61kB 25.7MB/s eta 0:00:01\r\u001b[K     |██████▍                         | 71kB 27.3MB/s eta 0:00:01\r\u001b[K     |███████▎                        | 81kB 28.8MB/s eta 0:00:01\r\u001b[K     |████████▏                       | 92kB 24.6MB/s eta 0:00:01\r\u001b[K     |█████████                       | 102kB 26.0MB/s eta 0:00:01\r\u001b[K     |██████████                      | 112kB 26.0MB/s eta 0:00:01\r\u001b[K     |███████████                     | 122kB 26.0MB/s eta 0:00:01\r\u001b[K     |███████████▉                    | 133kB 26.0MB/s eta 0:00:01\r\u001b[K     |████████████▊                   | 143kB 26.0MB/s eta 0:00:01\r\u001b[K     |█████████████▋                  | 153kB 26.0MB/s eta 0:00:01\r\u001b[K     |██████████████▌                 | 163kB 26.0MB/s eta 0:00:01\r\u001b[K     |███████████████▌                | 174kB 26.0MB/s eta 0:00:01\r\u001b[K     |████████████████▍               | 184kB 26.0MB/s eta 0:00:01\r\u001b[K     |█████████████████▎              | 194kB 26.0MB/s eta 0:00:01\r\u001b[K     |██████████████████▏             | 204kB 26.0MB/s eta 0:00:01\r\u001b[K     |███████████████████             | 215kB 26.0MB/s eta 0:00:01\r\u001b[K     |████████████████████            | 225kB 26.0MB/s eta 0:00:01\r\u001b[K     |█████████████████████           | 235kB 26.0MB/s eta 0:00:01\r\u001b[K     |█████████████████████▉          | 245kB 26.0MB/s eta 0:00:01\r\u001b[K     |██████████████████████▊         | 256kB 26.0MB/s eta 0:00:01\r\u001b[K     |███████████████████████▋        | 266kB 26.0MB/s eta 0:00:01\r\u001b[K     |████████████████████████▌       | 276kB 26.0MB/s eta 0:00:01\r\u001b[K     |█████████████████████████▍      | 286kB 26.0MB/s eta 0:00:01\r\u001b[K     |██████████████████████████▍     | 296kB 26.0MB/s eta 0:00:01\r\u001b[K     |███████████████████████████▎    | 307kB 26.0MB/s eta 0:00:01\r\u001b[K     |████████████████████████████▏   | 317kB 26.0MB/s eta 0:00:01\r\u001b[K     |█████████████████████████████   | 327kB 26.0MB/s eta 0:00:01\r\u001b[K     |██████████████████████████████  | 337kB 26.0MB/s eta 0:00:01\r\u001b[K     |███████████████████████████████ | 348kB 26.0MB/s eta 0:00:01\r\u001b[K     |███████████████████████████████▉| 358kB 26.0MB/s eta 0:00:01\r\u001b[K     |████████████████████████████████| 368kB 26.0MB/s \n",
            "\u001b[?25hRequirement already satisfied: regex in /usr/local/lib/python3.6/dist-packages (from transformers==2.2.0) (2019.12.20)\n",
            "Requirement already satisfied: sacremoses in /usr/local/lib/python3.6/dist-packages (from transformers==2.2.0) (0.0.43)\n",
            "Collecting boto3\n",
            "\u001b[?25l  Downloading https://files.pythonhosted.org/packages/81/a1/d8b9be4f3996265cb4e42dcd0ba72d61d68062ed6d8ce7e26b37cc399455/boto3-1.16.24-py2.py3-none-any.whl (129kB)\n",
            "\u001b[K     |████████████████████████████████| 133kB 53.5MB/s \n",
            "\u001b[?25hRequirement already satisfied: numpy in /usr/local/lib/python3.6/dist-packages (from transformers==2.2.0) (1.18.5)\n",
            "Requirement already satisfied: requests in /usr/local/lib/python3.6/dist-packages (from transformers==2.2.0) (2.23.0)\n",
            "Requirement already satisfied: sentencepiece in /usr/local/lib/python3.6/dist-packages (from transformers==2.2.0) (0.1.91)\n",
            "Requirement already satisfied: tqdm in /usr/local/lib/python3.6/dist-packages (from transformers==2.2.0) (4.41.1)\n",
            "Requirement already satisfied: joblib in /usr/local/lib/python3.6/dist-packages (from sacremoses->transformers==2.2.0) (0.17.0)\n",
            "Requirement already satisfied: click in /usr/local/lib/python3.6/dist-packages (from sacremoses->transformers==2.2.0) (7.1.2)\n",
            "Requirement already satisfied: six in /usr/local/lib/python3.6/dist-packages (from sacremoses->transformers==2.2.0) (1.15.0)\n",
            "Collecting s3transfer<0.4.0,>=0.3.0\n",
            "\u001b[?25l  Downloading https://files.pythonhosted.org/packages/69/79/e6afb3d8b0b4e96cefbdc690f741d7dd24547ff1f94240c997a26fa908d3/s3transfer-0.3.3-py2.py3-none-any.whl (69kB)\n",
            "\u001b[K     |████████████████████████████████| 71kB 8.5MB/s \n",
            "\u001b[?25hCollecting jmespath<1.0.0,>=0.7.1\n",
            "  Downloading https://files.pythonhosted.org/packages/07/cb/5f001272b6faeb23c1c9e0acc04d48eaaf5c862c17709d20e3469c6e0139/jmespath-0.10.0-py2.py3-none-any.whl\n",
            "Collecting botocore<1.20.0,>=1.19.24\n",
            "\u001b[?25l  Downloading https://files.pythonhosted.org/packages/08/16/8afd6474045f41bd51002e65862e2066ea2c5de34d0a942e1c4e86098d9a/botocore-1.19.24-py2.py3-none-any.whl (6.9MB)\n",
            "\u001b[K     |████████████████████████████████| 6.9MB 23.9MB/s \n",
            "\u001b[?25hRequirement already satisfied: urllib3!=1.25.0,!=1.25.1,<1.26,>=1.21.1 in /usr/local/lib/python3.6/dist-packages (from requests->transformers==2.2.0) (1.24.3)\n",
            "Requirement already satisfied: chardet<4,>=3.0.2 in /usr/local/lib/python3.6/dist-packages (from requests->transformers==2.2.0) (3.0.4)\n",
            "Requirement already satisfied: idna<3,>=2.5 in /usr/local/lib/python3.6/dist-packages (from requests->transformers==2.2.0) (2.10)\n",
            "Requirement already satisfied: certifi>=2017.4.17 in /usr/local/lib/python3.6/dist-packages (from requests->transformers==2.2.0) (2020.11.8)\n",
            "Requirement already satisfied: python-dateutil<3.0.0,>=2.1 in /usr/local/lib/python3.6/dist-packages (from botocore<1.20.0,>=1.19.24->boto3->transformers==2.2.0) (2.8.1)\n",
            "\u001b[31mERROR: botocore 1.19.24 has requirement urllib3<1.27,>=1.25.4; python_version != \"3.4\", but you'll have urllib3 1.24.3 which is incompatible.\u001b[0m\n",
            "Installing collected packages: jmespath, botocore, s3transfer, boto3, transformers\n",
            "  Found existing installation: transformers 3.5.1\n",
            "    Uninstalling transformers-3.5.1:\n",
            "      Successfully uninstalled transformers-3.5.1\n",
            "Successfully installed boto3-1.16.24 botocore-1.19.24 jmespath-0.10.0 s3transfer-0.3.3 transformers-2.2.0\n"
          ],
          "name": "stdout"
        }
      ]
    },
    {
      "cell_type": "code",
      "metadata": {
        "id": "rA8rMAB3LU7W",
        "colab": {
          "base_uri": "https://localhost:8080/"
        },
        "outputId": "542d848e-6b92-45af-d2bf-d7137a6d2e04"
      },
      "source": [
        "!pip install spacy==2.0.12"
      ],
      "execution_count": null,
      "outputs": [
        {
          "output_type": "stream",
          "text": [
            "Collecting spacy==2.0.12\n",
            "\u001b[?25l  Downloading https://files.pythonhosted.org/packages/24/de/ac14cd453c98656d6738a5669f96a4ac7f668493d5e6b78227ac933c5fd4/spacy-2.0.12.tar.gz (22.0MB)\n",
            "\u001b[K     |████████████████████████████████| 22.0MB 1.7MB/s \n",
            "\u001b[?25hRequirement already satisfied: numpy>=1.7 in /usr/local/lib/python3.6/dist-packages (from spacy==2.0.12) (1.18.5)\n",
            "Collecting murmurhash<0.29,>=0.28\n",
            "  Downloading https://files.pythonhosted.org/packages/82/55/7f050e9f73c9a58df219c63e77304b0ff01676847061dc99abb484cff3a8/murmurhash-0.28.0-cp36-cp36m-manylinux1_x86_64.whl\n",
            "Collecting cymem<1.32,>=1.30\n",
            "  Downloading https://files.pythonhosted.org/packages/a5/0f/d29aa68c55db37844c77e7e96143bd96651fd0f4453c9f6ee043ac846b77/cymem-1.31.2-cp36-cp36m-manylinux1_x86_64.whl\n",
            "Collecting preshed<2.0.0,>=1.0.0\n",
            "\u001b[?25l  Downloading https://files.pythonhosted.org/packages/12/88/57a818051f3d71e800bfb7ba4df56d3ea5793482ef11f1d2109b726f3bac/preshed-1.0.1-cp36-cp36m-manylinux1_x86_64.whl (80kB)\n",
            "\u001b[K     |████████████████████████████████| 81kB 12.3MB/s \n",
            "\u001b[?25hCollecting thinc<6.11.0,>=6.10.3\n",
            "\u001b[?25l  Downloading https://files.pythonhosted.org/packages/94/b1/47a88072d0a38b3594c0a638a62f9ef7c742b8b8a87f7b105f7ed720b14b/thinc-6.10.3.tar.gz (1.2MB)\n",
            "\u001b[K     |████████████████████████████████| 1.2MB 49.9MB/s \n",
            "\u001b[?25hCollecting plac<1.0.0,>=0.9.6\n",
            "  Downloading https://files.pythonhosted.org/packages/9e/9b/62c60d2f5bc135d2aa1d8c8a86aaf84edb719a59c7f11a4316259e61a298/plac-0.9.6-py2.py3-none-any.whl\n",
            "Collecting ujson>=1.35\n",
            "\u001b[?25l  Downloading https://files.pythonhosted.org/packages/f1/84/e039c6ffc6603f2dfe966972d345d4f650a4ffd74b18c852ece645de12ac/ujson-4.0.1-cp36-cp36m-manylinux1_x86_64.whl (179kB)\n",
            "\u001b[K     |████████████████████████████████| 184kB 57.0MB/s \n",
            "\u001b[?25hCollecting dill<0.3,>=0.2\n",
            "\u001b[?25l  Downloading https://files.pythonhosted.org/packages/fe/42/bfe2e0857bc284cbe6a011d93f2a9ad58a22cb894461b199ae72cfef0f29/dill-0.2.9.tar.gz (150kB)\n",
            "\u001b[K     |████████████████████████████████| 153kB 55.3MB/s \n",
            "\u001b[?25hCollecting regex==2017.4.5\n",
            "\u001b[?25l  Downloading https://files.pythonhosted.org/packages/36/62/c0c0d762ffd4ffaf39f372eb8561b8d491a11ace5a7884610424a8b40f95/regex-2017.04.05.tar.gz (601kB)\n",
            "\u001b[K     |████████████████████████████████| 604kB 48.3MB/s \n",
            "\u001b[?25hRequirement already satisfied: requests<3.0.0,>=2.13.0 in /usr/local/lib/python3.6/dist-packages (from spacy==2.0.12) (2.23.0)\n",
            "Collecting msgpack<1.0.0,>=0.5.6\n",
            "\u001b[?25l  Downloading https://files.pythonhosted.org/packages/3d/a8/e01fea81691749044a7bfd44536483a296d9c0a7ed4ec8810a229435547c/msgpack-0.6.2-cp36-cp36m-manylinux1_x86_64.whl (249kB)\n",
            "\u001b[K     |████████████████████████████████| 256kB 54.1MB/s \n",
            "\u001b[?25hCollecting msgpack-numpy<1.0.0,>=0.4.1\n",
            "  Downloading https://files.pythonhosted.org/packages/19/05/05b8d7c69c6abb36a34325cc3150089bdafc359f0a81fb998d93c5d5c737/msgpack_numpy-0.4.7.1-py2.py3-none-any.whl\n",
            "Collecting cytoolz<0.10,>=0.9.0\n",
            "\u001b[?25l  Downloading https://files.pythonhosted.org/packages/36/f4/9728ba01ccb2f55df9a5af029b48ba0aaca1081bbd7823ea2ee223ba7a42/cytoolz-0.9.0.1.tar.gz (443kB)\n",
            "\u001b[K     |████████████████████████████████| 450kB 53.0MB/s \n",
            "\u001b[?25hCollecting wrapt<1.11.0,>=1.10.0\n",
            "  Downloading https://files.pythonhosted.org/packages/a0/47/66897906448185fcb77fc3c2b1bc20ed0ecca81a0f2f88eda3fc5a34fc3d/wrapt-1.10.11.tar.gz\n",
            "Requirement already satisfied: tqdm<5.0.0,>=4.10.0 in /usr/local/lib/python3.6/dist-packages (from thinc<6.11.0,>=6.10.3->spacy==2.0.12) (4.41.1)\n",
            "Requirement already satisfied: six<2.0.0,>=1.10.0 in /usr/local/lib/python3.6/dist-packages (from thinc<6.11.0,>=6.10.3->spacy==2.0.12) (1.15.0)\n",
            "Requirement already satisfied: certifi>=2017.4.17 in /usr/local/lib/python3.6/dist-packages (from requests<3.0.0,>=2.13.0->spacy==2.0.12) (2020.11.8)\n",
            "Requirement already satisfied: urllib3!=1.25.0,!=1.25.1,<1.26,>=1.21.1 in /usr/local/lib/python3.6/dist-packages (from requests<3.0.0,>=2.13.0->spacy==2.0.12) (1.24.3)\n",
            "Requirement already satisfied: idna<3,>=2.5 in /usr/local/lib/python3.6/dist-packages (from requests<3.0.0,>=2.13.0->spacy==2.0.12) (2.10)\n",
            "Requirement already satisfied: chardet<4,>=3.0.2 in /usr/local/lib/python3.6/dist-packages (from requests<3.0.0,>=2.13.0->spacy==2.0.12) (3.0.4)\n",
            "Requirement already satisfied: toolz>=0.8.0 in /usr/local/lib/python3.6/dist-packages (from cytoolz<0.10,>=0.9.0->thinc<6.11.0,>=6.10.3->spacy==2.0.12) (0.11.1)\n",
            "Building wheels for collected packages: spacy, thinc, dill, regex, cytoolz, wrapt\n"
          ],
          "name": "stdout"
        }
      ]
    },
    {
      "cell_type": "code",
      "metadata": {
        "id": "06kc4A6rLU95"
      },
      "source": [
        "!pip install rouge-score"
      ],
      "execution_count": null,
      "outputs": []
    },
    {
      "cell_type": "code",
      "metadata": {
        "id": "39rIN2garjMC"
      },
      "source": [
        "!pip install flask\n"
      ],
      "execution_count": null,
      "outputs": []
    },
    {
      "cell_type": "code",
      "metadata": {
        "id": "Z8pKaylwLVAY"
      },
      "source": [
        "!pip install git+https://github.com/tagucci/pythonrouge.git"
      ],
      "execution_count": null,
      "outputs": []
    },
    {
      "cell_type": "code",
      "metadata": {
        "id": "86CWnGCNLVCy"
      },
      "source": [
        "!pip install bert-tensorflow"
      ],
      "execution_count": null,
      "outputs": []
    },
    {
      "cell_type": "code",
      "metadata": {
        "id": "WLw5NI26LVGV"
      },
      "source": [
        "!pip install gtts\n",
        "!pip install SpeechRecognition"
      ],
      "execution_count": null,
      "outputs": []
    },
    {
      "cell_type": "markdown",
      "metadata": {
        "id": "1b8t9zxOXSP8"
      },
      "source": [
        "## Speech To Text using Google GTTS Library"
      ]
    },
    {
      "cell_type": "code",
      "metadata": {
        "id": "2yz5FpPGLVIv"
      },
      "source": [
        "def bot_speak(voice_data):\n",
        "\n",
        "    if \"how are you\" in voice_data.lower():\n",
        "        audio_string = \"I'm great and you?\"\n",
        "    elif \"how old are you\" in voice_data.lower():\n",
        "        audio_string = \"I never give my age.\"\n",
        "    elif 'bitcoin' in voice_data.lower():\n",
        "        r = requests.get('https://api.coingecko.com/api/v3/simple/price?ids=bitcoin&vs_currencies=usd')\n",
        "        a = json.loads(r.text)\n",
        "        audio_string = \"1 bitcoin will cost you \" + str(a[\"bitcoin\"][\"usd\"]) + \" US dollars.\"\n",
        "    elif 'launch youtube' in voice_data.lower():\n",
        "        url = \"https://www.youtube.com/\"\n",
        "        webbrowser.get().open(url)\n",
        "        audio_string = \"Opening YouTube\"\n",
        "    elif 'search youtube' in voice_data.lower():\n",
        "        keyword = voice_data.split(\"for\")[-1]\n",
        "\n",
        "        url = f\"https://www.youtube.com/results?search_query={keyword}\"\n",
        "        webbrowser.get().open(url)\n",
        "        audio_string = \"Search YouTube for \" + str(keyword)\n",
        "    else:\n",
        "        audio_string = \"I'd didn't get that sorry.\"\n",
        "    \n",
        "    tts = gTTS(text=audio_string, lang=\"en\")\n",
        "    audio_file = 'C://Users/chat2/Jupyter_code/Text Mining/AudioFiles/audio.mp3'\n",
        "    tts.save(audio_file)\n",
        "    playsound.playsound(audio_file)\n",
        "    os.remove(audio_file)\n",
        "\n",
        "#bot_speak()\n",
        "\n",
        "\n"
      ],
      "execution_count": null,
      "outputs": []
    },
    {
      "cell_type": "markdown",
      "metadata": {
        "id": "-PM9EG3jXtiU"
      },
      "source": [
        "# Youtube Video Text Extraction"
      ]
    },
    {
      "cell_type": "code",
      "metadata": {
        "id": "aeqxqRCrXvdp"
      },
      "source": [
        "!pip install youtube_dl\n",
        "!pip install youtube-transcript-api"
      ],
      "execution_count": null,
      "outputs": []
    },
    {
      "cell_type": "markdown",
      "metadata": {
        "id": "G0tukLnoqujw"
      },
      "source": [
        "# Sample Scrum Call https://www.youtube.com/watch?v=nTtru5CfwbM"
      ]
    },
    {
      "cell_type": "code",
      "metadata": {
        "id": "pyQZi2FKXl7O"
      },
      "source": [
        "from youtube_transcript_api import YouTubeTranscriptApi\n",
        "\n",
        "YT_Text=YouTubeTranscriptApi.get_transcript('nTtru5CfwbM')"
      ],
      "execution_count": null,
      "outputs": []
    },
    {
      "cell_type": "code",
      "metadata": {
        "id": "TiDuLsEVYyic"
      },
      "source": [
        "List_Text=[]\n",
        "for i in range(0, len(YT_Text)):\n",
        "        print(YT_Text[i]['text'])\n",
        "        List_Text.append(YT_Text[i]['text'])"
      ],
      "execution_count": null,
      "outputs": []
    },
    {
      "cell_type": "code",
      "metadata": {
        "id": "c67MeYG8Y71n"
      },
      "source": [
        "Processed_Text = ' '.join(List_Text)"
      ],
      "execution_count": null,
      "outputs": []
    },
    {
      "cell_type": "code",
      "metadata": {
        "id": "wl7y30vnY74x"
      },
      "source": [
        "Processed_Text=Processed_Text.replace('\\n',' ')\n",
        "Processed_Text"
      ],
      "execution_count": null,
      "outputs": []
    },
    {
      "cell_type": "markdown",
      "metadata": {
        "id": "hvEZ1OKMZJL_"
      },
      "source": [
        "#Adding Punctuator"
      ]
    },
    {
      "cell_type": "code",
      "metadata": {
        "id": "iKmTZZL3ZYOU"
      },
      "source": [
        "!pip install punctuator"
      ],
      "execution_count": null,
      "outputs": []
    },
    {
      "cell_type": "code",
      "metadata": {
        "id": "tuMpLkXTaP9Q"
      },
      "source": [
        "Processed_Text"
      ],
      "execution_count": null,
      "outputs": []
    },
    {
      "cell_type": "markdown",
      "metadata": {
        "id": "emfjrmYmaQQG"
      },
      "source": [
        "##  Should Download and Refer the Pretrained Model from https://drive.google.com/drive/folders/0B7BsN5f2F1fZQnFsbzJ3TWxxMms"
      ]
    },
    {
      "cell_type": "code",
      "metadata": {
        "id": "l7APyQ3uZYL5"
      },
      "source": [
        "from punctuator import Punctuator\n",
        "punctuate_model = Punctuator('/content/INTERSPEECH-T-BRNN.pcl')\n",
        "\n"
      ],
      "execution_count": null,
      "outputs": []
    },
    {
      "cell_type": "code",
      "metadata": {
        "id": "Ej7V8MsfZcgb"
      },
      "source": [
        "punctuated_text=punctuate_model.punctuate(Processed_Text)\n",
        "print(punctuated_text)"
      ],
      "execution_count": null,
      "outputs": []
    },
    {
      "cell_type": "markdown",
      "metadata": {
        "id": "4mHuSkfJkOOu"
      },
      "source": [
        "# **Reading the data:**"
      ]
    },
    {
      "cell_type": "code",
      "metadata": {
        "id": "QKhxBAd1Y4OA"
      },
      "source": [
        ""
      ],
      "execution_count": null,
      "outputs": []
    },
    {
      "cell_type": "code",
      "metadata": {
        "id": "tZfUrfKhL6uM"
      },
      "source": [
        "import numpy as np\n",
        "import pandas as pd\n",
        "from summarizer import Summarizer\n",
        "import tensorflow as tf\n"
      ],
      "execution_count": null,
      "outputs": []
    },
    {
      "cell_type": "markdown",
      "metadata": {
        "id": "6NQ65EuRbK8G"
      },
      "source": [
        "***Can Also Upload a Text file Directly.***"
      ]
    },
    {
      "cell_type": "code",
      "metadata": {
        "id": "m1GIhNhtL6wv"
      },
      "source": [
        "from google.colab import files\n",
        "uploaded = files.upload()"
      ],
      "execution_count": null,
      "outputs": []
    },
    {
      "cell_type": "code",
      "metadata": {
        "id": "jt6fKidKL6zv"
      },
      "source": [
        "with open(\"/content/textmining.txt\") as f:\n",
        "  text_data = f.read()"
      ],
      "execution_count": null,
      "outputs": []
    },
    {
      "cell_type": "code",
      "metadata": {
        "id": "uFEYZ5JWL62v"
      },
      "source": [
        "text_data=punctuated_text"
      ],
      "execution_count": null,
      "outputs": []
    },
    {
      "cell_type": "code",
      "metadata": {
        "id": "O5T1To8uL65g"
      },
      "source": [
        ""
      ],
      "execution_count": null,
      "outputs": []
    },
    {
      "cell_type": "code",
      "metadata": {
        "id": "-rPpDcz1L6-0"
      },
      "source": [
        ""
      ],
      "execution_count": null,
      "outputs": []
    },
    {
      "cell_type": "markdown",
      "metadata": {
        "id": "8vOH2RaVTHqQ"
      },
      "source": [
        "**BERTSUM**\n",
        "\n"
      ]
    },
    {
      "cell_type": "code",
      "metadata": {
        "id": "M0X2v2DuL7BZ"
      },
      "source": [
        "from summarizer import Summarizer"
      ],
      "execution_count": null,
      "outputs": []
    },
    {
      "cell_type": "code",
      "metadata": {
        "id": "W8EB13gYL7E3"
      },
      "source": [
        "def Bert_Sum(input_data): \n",
        "  model = Summarizer()\n",
        "  result = model(input_data, min_length=150, max_length=512)\n",
        "  summary_bert = \"\".join(result)\n",
        "  print(summary_bert)\n",
        "  return summary_bert\n",
        " "
      ],
      "execution_count": null,
      "outputs": []
    },
    {
      "cell_type": "code",
      "metadata": {
        "id": "_23sN6z5L7IL"
      },
      "source": [
        "model1 = Bert_Sum(text_data)"
      ],
      "execution_count": null,
      "outputs": []
    },
    {
      "cell_type": "code",
      "metadata": {
        "id": "I7e3SWJ5L7MT"
      },
      "source": [
        ""
      ],
      "execution_count": null,
      "outputs": []
    },
    {
      "cell_type": "markdown",
      "metadata": {
        "id": "NuAK0KryS6-m"
      },
      "source": [
        "**GPT2**\n"
      ]
    },
    {
      "cell_type": "code",
      "metadata": {
        "id": "4EVr8zc7VrdC"
      },
      "source": [
        "from summarizer import TransformerSummarizer"
      ],
      "execution_count": null,
      "outputs": []
    },
    {
      "cell_type": "code",
      "metadata": {
        "id": "X0iU7GQbL7RI"
      },
      "source": [
        "#GPT2 \n",
        "\n",
        "def GPT2_sum(input_data):\n",
        "  GPT2_model = TransformerSummarizer(transformer_type=\"GPT2\",transformer_model_key=\"gpt2-medium\")\n",
        "  summary_gpt2 = ''.join(GPT2_model(input_data, min_length=250, max_length=1024))\n",
        "  print('The Summary of the GPT2 model is as follows:  \\n')\n",
        "  print(summary_gpt2)\n",
        "  return summary_gpt2"
      ],
      "execution_count": null,
      "outputs": []
    },
    {
      "cell_type": "code",
      "metadata": {
        "id": "A118kBG2L68M"
      },
      "source": [
        "model2= GPT2_sum(text_data)"
      ],
      "execution_count": null,
      "outputs": []
    },
    {
      "cell_type": "code",
      "metadata": {
        "id": "VhlT2SCHNv7N"
      },
      "source": [
        ""
      ],
      "execution_count": null,
      "outputs": []
    },
    {
      "cell_type": "code",
      "metadata": {
        "id": "DCZzllWyN2S_"
      },
      "source": [
        ""
      ],
      "execution_count": null,
      "outputs": []
    },
    {
      "cell_type": "markdown",
      "metadata": {
        "id": "l6RKPAQp6pcv"
      },
      "source": [
        "**XLNet**"
      ]
    },
    {
      "cell_type": "code",
      "metadata": {
        "id": "1IkVCry0N3uD"
      },
      "source": [
        "from summarizer import TransformerSummarizer"
      ],
      "execution_count": null,
      "outputs": []
    },
    {
      "cell_type": "code",
      "metadata": {
        "id": "HHnzFIZHN36g"
      },
      "source": [
        "#XLNet\n",
        "\n",
        "def XLNet_sum(input_data):\n",
        "  model = TransformerSummarizer(transformer_type=\"XLNet\",transformer_model_key=\"xlnet-base-cased\")\n",
        "  summary_xlnet = ''.join(model(input_data, min_length=20, max_length=400))\n",
        "  print(summary_xlnet)\n",
        "  return summary_xlnet\n",
        "  "
      ],
      "execution_count": null,
      "outputs": []
    },
    {
      "cell_type": "code",
      "metadata": {
        "id": "SEvLy_StN38-"
      },
      "source": [
        "model3= XLNet_sum(text_data)"
      ],
      "execution_count": null,
      "outputs": []
    },
    {
      "cell_type": "code",
      "metadata": {
        "id": "gSb65ike501q"
      },
      "source": [
        "model3"
      ],
      "execution_count": null,
      "outputs": []
    },
    {
      "cell_type": "code",
      "metadata": {
        "id": "rrnB713G6TV4"
      },
      "source": [
        "!pip install playsound"
      ],
      "execution_count": null,
      "outputs": []
    },
    {
      "cell_type": "code",
      "metadata": {
        "colab": {
          "base_uri": "https://localhost:8080/",
          "height": 142
        },
        "id": "BxmjSGOP5RLZ",
        "outputId": "2968efab-edab-4dc4-d9a6-b848bdcce976"
      },
      "source": [
        "model3"
      ],
      "execution_count": null,
      "outputs": [
        {
          "output_type": "execute_result",
          "data": {
            "application/vnd.google.colaboratory.intrinsic+json": {
              "type": "string"
            },
            "text/plain": [
              "\"[Music] the product team has taken up a new project called weather master. The PIO is not required to be here. They can use the information gathered during the meeting for separate offline conversations, [Music] [Music]. There are decisions that are taken during runtime based on the data. Could we request you to be concise? So getting back to your update? There is a reason why the inline queries are there in the code. I worked on developing the Wizards for book order creation, I'm almost done today. Did you forget to mention any impediments, not really an impediment at present, but I would like to mention that my computer probably needs to be upgraded with more RAM. As soon as Mary is done today. I'm also hoping to complete the company order testing that has been pending for a while I'm. Why don't you go next with your updates all right? I'm almost through with setting up our project on the freeware tool that I downloaded yesterday I'll show you guys a demo in the meeting I set up later today, I'll try to chase down some of these parking lot items anything else before we close the meeting all right that's it for today. The purpose of a scrum meeting is to keep the team members, updated and resolve any impediments it's.\""
            ]
          },
          "metadata": {
            "tags": []
          },
          "execution_count": 46
        }
      ]
    },
    {
      "cell_type": "code",
      "metadata": {
        "id": "JSAZ5ko_OraN"
      },
      "source": [
        ""
      ],
      "execution_count": null,
      "outputs": []
    },
    {
      "cell_type": "code",
      "metadata": {
        "id": "XIQOi7-HOrUC"
      },
      "source": [
        ""
      ],
      "execution_count": null,
      "outputs": []
    },
    {
      "cell_type": "code",
      "metadata": {
        "id": "KV12c2r6N4B6"
      },
      "source": [
        ""
      ],
      "execution_count": null,
      "outputs": []
    },
    {
      "cell_type": "code",
      "metadata": {
        "id": "hPrPzRSJN4EQ"
      },
      "source": [
        ""
      ],
      "execution_count": null,
      "outputs": []
    },
    {
      "cell_type": "code",
      "metadata": {
        "id": "y_UuLepxM7VH"
      },
      "source": [
        ""
      ],
      "execution_count": null,
      "outputs": []
    },
    {
      "cell_type": "markdown",
      "metadata": {
        "id": "1QGNPocfr_j9"
      },
      "source": [
        "# Spacy"
      ]
    },
    {
      "cell_type": "code",
      "metadata": {
        "id": "6J0iyPXana3f"
      },
      "source": [
        "import spacy\n",
        "from spacy.lang.en.stop_words import STOP_WORDS\n",
        "from string import punctuation\n",
        "from collections import Counter\n",
        "from heapq import nlargest\n",
        "!python -m spacy download en"
      ],
      "execution_count": null,
      "outputs": []
    },
    {
      "cell_type": "code",
      "metadata": {
        "id": "OIucKq0fN4Gm"
      },
      "source": [
        "nlp = spacy.load('en')"
      ],
      "execution_count": null,
      "outputs": []
    },
    {
      "cell_type": "code",
      "metadata": {
        "id": "HA3PdjDCPBOd"
      },
      "source": [
        "doc =nlp(text_data)"
      ],
      "execution_count": null,
      "outputs": []
    },
    {
      "cell_type": "code",
      "metadata": {
        "id": "Vjs0W6OQPBRj"
      },
      "source": [
        "len(list(doc.sents))"
      ],
      "execution_count": null,
      "outputs": []
    },
    {
      "cell_type": "code",
      "metadata": {
        "id": "lUmyKLb5PBV7"
      },
      "source": [
        "keyword = []\n",
        "stopwords = list(STOP_WORDS)\n",
        "pos_tag = ['PROPN', 'ADJ', 'NOUN', 'VERB']\n",
        "for token in doc:\n",
        "    if(token.text in stopwords or token.text in punctuation):\n",
        "        continue\n",
        "    if(token.pos_ in pos_tag):\n",
        "        keyword.append(token.text)"
      ],
      "execution_count": null,
      "outputs": []
    },
    {
      "cell_type": "code",
      "metadata": {
        "id": "VpvDnJWqe_Lr"
      },
      "source": [
        "freq_word = Counter(keyword)\n",
        "print(freq_word.most_common(5))"
      ],
      "execution_count": null,
      "outputs": []
    },
    {
      "cell_type": "code",
      "metadata": {
        "id": "0clb0vPKe_JH"
      },
      "source": [
        "max_freq = Counter(keyword).most_common(1)[0][1]\n",
        "for word in freq_word.keys():  \n",
        "        freq_word[word] = (freq_word[word]/max_freq)\n",
        "freq_word.most_common(5)"
      ],
      "execution_count": null,
      "outputs": []
    },
    {
      "cell_type": "code",
      "metadata": {
        "id": "NP557r56fCyB"
      },
      "source": [
        "sent_strength={}\n",
        "for sent in doc.sents:\n",
        "    for word in sent:\n",
        "        if word.text in freq_word.keys():\n",
        "            if sent in sent_strength.keys():\n",
        "                sent_strength[sent]+=freq_word[word.text]\n",
        "            else:\n",
        "                sent_strength[sent]=freq_word[word.text]\n",
        "print(sent_strength)"
      ],
      "execution_count": null,
      "outputs": []
    },
    {
      "cell_type": "code",
      "metadata": {
        "id": "Hmo4YJGjfC1S"
      },
      "source": [
        "summarized_sentences = nlargest(3, sent_strength, key=sent_strength.get)\n",
        "print(summarized_sentences)"
      ],
      "execution_count": null,
      "outputs": []
    },
    {
      "cell_type": "code",
      "metadata": {
        "id": "1INzfuzP50c_"
      },
      "source": [
        ""
      ],
      "execution_count": null,
      "outputs": []
    },
    {
      "cell_type": "code",
      "metadata": {
        "id": "ISwkIf-450o_"
      },
      "source": [
        ""
      ],
      "execution_count": null,
      "outputs": []
    },
    {
      "cell_type": "code",
      "metadata": {
        "id": "Kvo3FAVz50uR"
      },
      "source": [
        ""
      ],
      "execution_count": null,
      "outputs": []
    },
    {
      "cell_type": "markdown",
      "metadata": {
        "id": "UMz6KBAcmoM1"
      },
      "source": [
        "**ROUGE SCORE- BERT**\n"
      ]
    },
    {
      "cell_type": "code",
      "metadata": {
        "id": "0R2NoGRrkTOX"
      },
      "source": [
        "#reading the human generated summary for the text data\n",
        "#with open(\"/content/golden_summary.txt\") as f:\n",
        "#  golden = f.read()\n",
        "#golden ='Text mining is used for specific research questions like why cats sit on mats. It is not just a search tool but it filters and extracts relevant information. For example, this program would identify the cat is in action and man is the object and it maps the trend across the articles. It helps to determine the additional research needed to find out questions and answers.  '\n"
      ],
      "execution_count": null,
      "outputs": []
    },
    {
      "cell_type": "code",
      "metadata": {
        "id": "j6U7nNUEk4ei"
      },
      "source": [
        "golden = 'Rick is the scrum master of this meeting where the team members discuss what they did and the impediments they faced. Rick holds the meeting near a scrum board Angela. Team is planning to transition to scrum methdology. New project weather master is taken and PIO is not required to be here. The difficulty with this approach is that our server side logic is dependent on metadata. Setting the project on a freeware tool and demo will be set up later. The stand-up meetings will be helpful.'"
      ],
      "execution_count": null,
      "outputs": []
    },
    {
      "cell_type": "code",
      "metadata": {
        "id": "EgUMdqZcverW"
      },
      "source": [
        "#BLEU Score- Bilingual Evaluation Understudy \n",
        "#from nltk.translate.bleu_score import sentence_bleu\n",
        "#reference = text_data\n",
        "#candidate = summary\n",
        "#score = sentence_bleu(reference, candidate)\n",
        "#print('The BLEU score of the BERT Model is:', score)"
      ],
      "execution_count": null,
      "outputs": []
    },
    {
      "cell_type": "code",
      "metadata": {
        "id": "gKamxFGyM7SK",
        "colab": {
          "base_uri": "https://localhost:8080/"
        },
        "outputId": "6ecdf0fe-3314-4a52-90c2-f445ff8f51e9"
      },
      "source": [
        "#Rouge Score Comparison of the machine Summary with the original text data\n",
        "reference = golden #Refers to the human summary\n",
        "candidate = model1 #refers to machine summary\n",
        "from rouge_score import rouge_scorer\n",
        "scorer = rouge_scorer.RougeScorer(['rouge1', 'rouge2', 'rougeL'], use_stemmer=True)\n",
        "scores_bert = scorer.score(reference, candidate)\n",
        "print(scores_bert)"
      ],
      "execution_count": null,
      "outputs": [
        {
          "output_type": "stream",
          "text": [
            "{'rouge1': Score(precision=0.42276422764227645, recall=0.5909090909090909, fmeasure=0.49289099526066354), 'rouge2': Score(precision=0.27049180327868855, recall=0.3793103448275862, fmeasure=0.3157894736842105), 'rougeL': Score(precision=0.3333333333333333, recall=0.4659090909090909, fmeasure=0.38862559241706157)}\n"
          ],
          "name": "stdout"
        }
      ]
    },
    {
      "cell_type": "markdown",
      "metadata": {
        "id": "T24TgkGcm1km"
      },
      "source": [
        "**ROUGE SCORE - GPT2**"
      ]
    },
    {
      "cell_type": "code",
      "metadata": {
        "id": "yUlfxZXLM7Pd"
      },
      "source": [
        "#Rouge Score Comparison of the machine Summary with the original text data\n",
        "from rouge_score import rouge_scorer\n",
        "reference = golden \n",
        "candidate = model2\n",
        "scorer = rouge_scorer.RougeScorer(['rouge1', 'rouge2', 'rougeL'], use_stemmer=True)\n",
        "scores_gpt2 = scorer.score(reference, candidate)"
      ],
      "execution_count": null,
      "outputs": []
    },
    {
      "cell_type": "code",
      "metadata": {
        "id": "dJcFo6TJnXPJ",
        "colab": {
          "base_uri": "https://localhost:8080/"
        },
        "outputId": "6bcf834d-4320-4902-af4e-70b87c858034"
      },
      "source": [
        "print(scores_gpt2)"
      ],
      "execution_count": null,
      "outputs": [
        {
          "output_type": "stream",
          "text": [
            "{'rouge1': Score(precision=0.47706422018348627, recall=0.5909090909090909, fmeasure=0.5279187817258884), 'rouge2': Score(precision=0.2962962962962963, recall=0.367816091954023, fmeasure=0.3282051282051282), 'rougeL': Score(precision=0.3853211009174312, recall=0.4772727272727273, fmeasure=0.4263959390862945)}\n"
          ],
          "name": "stdout"
        }
      ]
    },
    {
      "cell_type": "markdown",
      "metadata": {
        "id": "H8kFsSYinP5g"
      },
      "source": [
        "**ROUGE SCORE - XLNET**\n"
      ]
    },
    {
      "cell_type": "code",
      "metadata": {
        "id": "GdPVML0zM7KL",
        "colab": {
          "base_uri": "https://localhost:8080/"
        },
        "outputId": "956589d9-c761-44f7-9a66-3d95418af9a0"
      },
      "source": [
        "#Rouge Score Comparison of the machine Summary with the original text data\n",
        "from rouge_score import rouge_scorer\n",
        "reference = golden \n",
        "candidate = model3\n",
        "scorer = rouge_scorer.RougeScorer(['rouge1', 'rouge2', 'rougeL'], use_stemmer=True)\n",
        "scores_xlnet = scorer.score(reference, candidate)\n",
        "print(scores_xlnet)\n",
        " "
      ],
      "execution_count": null,
      "outputs": [
        {
          "output_type": "stream",
          "text": [
            "{'rouge1': Score(precision=0.2317596566523605, recall=0.6136363636363636, fmeasure=0.3364485981308411), 'rouge2': Score(precision=0.06896551724137931, recall=0.1839080459770115, fmeasure=0.10031347962382443), 'rougeL': Score(precision=0.12446351931330472, recall=0.32954545454545453, fmeasure=0.1806853582554517)}\n"
          ],
          "name": "stdout"
        }
      ]
    },
    {
      "cell_type": "code",
      "metadata": {
        "id": "9OkgxuvI51Lx"
      },
      "source": [
        "from gtts import gTTS\n",
        "import playsound\n",
        "from IPython.display import Audio\n",
        "import os\n",
        "def bot_speak(voice_data): \n",
        "    tts = gTTS(text=voice_data, lang=\"en\")\n",
        "    audio_file = 'audio.mp3'\n",
        "    tts.save(audio_file)\n",
        "    #Audio(audio_file, autoplay=True) \n",
        "    #playsound.playsound(audio_file)\n",
        "    #os.remove(audio_file)\n",
        "\n",
        "bot_speak(model2)"
      ],
      "execution_count": 76,
      "outputs": []
    },
    {
      "cell_type": "code",
      "metadata": {
        "id": "yF7iCu_3EyEZ",
        "colab": {
          "base_uri": "https://localhost:8080/",
          "height": 75
        },
        "outputId": "3e075174-3d35-417e-9e28-d5690575c807"
      },
      "source": [
        "Audio('/content/audio.mp3', autoplay=True)"
      ],
      "execution_count": 77,
      "outputs": [
        {
          "output_type": "execute_result",
          "data": {
            "text/html": [
              "\n",
              "                <audio controls=\"controls\" autoplay=\"autoplay\">\n",
              "                    <source src=\"data:audio/mpeg;base64,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\" type=\"audio/mpeg\" />\n",
              "                    Your browser does not support the audio element.\n",
              "                </audio>\n",
              "              "
            ],
            "text/plain": [
              "<IPython.lib.display.Audio object>"
            ]
          },
          "metadata": {
            "tags": []
          },
          "execution_count": 77
        }
      ]
    },
    {
      "cell_type": "code",
      "metadata": {
        "id": "70KmkWpPEyP1"
      },
      "source": [
        ""
      ],
      "execution_count": null,
      "outputs": []
    },
    {
      "cell_type": "markdown",
      "metadata": {
        "id": "qn5KPk9XN8L5"
      },
      "source": [
        "## #Pending Future Tasks"
      ]
    },
    {
      "cell_type": "code",
      "metadata": {
        "id": "59K81iedEyZk"
      },
      "source": [
        ""
      ],
      "execution_count": null,
      "outputs": []
    },
    {
      "cell_type": "markdown",
      "metadata": {
        "id": "qhHc5SRv_VrG"
      },
      "source": [
        "**Text Summarization - Cosine Similarity**"
      ]
    },
    {
      "cell_type": "code",
      "metadata": {
        "id": "pK1hWLsoWZX1"
      },
      "source": [
        "import nltk\n",
        "nltk.download('stopwords')"
      ],
      "execution_count": null,
      "outputs": []
    },
    {
      "cell_type": "code",
      "metadata": {
        "id": "9I33HvzA_ZgF"
      },
      "source": [
        "\n",
        "from nltk.corpus import stopwords\n",
        "from nltk.cluster.util import cosine_distance\n",
        "import numpy as np\n",
        "import networkx as nx"
      ],
      "execution_count": null,
      "outputs": []
    },
    {
      "cell_type": "code",
      "metadata": {
        "id": "tnVJiSJ1eZKt"
      },
      "source": [
        "def read_article(file_name):\n",
        "  file = open(file_name, 'r') \n",
        "  filedata = file.readlines()\n",
        "  filedata = [x for x in filedata if x != '\\n'] \n",
        "  filedata = [x.replace('\\n',' ') for x in filedata] \n",
        "  filedata = ''.join(filedata) \n",
        "  filedata = filedata.split('. ') \n",
        "  sentences = []\n",
        "  for sentence in filedata:\n",
        "    sentences.append(sentence.replace('[^a-zA-Z]', ' ').split(' '))\n",
        " \n",
        "  return sentences"
      ],
      "execution_count": null,
      "outputs": []
    },
    {
      "cell_type": "code",
      "metadata": {
        "id": "iQ5ZnupePBY0"
      },
      "source": [
        ""
      ],
      "execution_count": null,
      "outputs": []
    },
    {
      "cell_type": "code",
      "metadata": {
        "id": "5yBRd9wvVq8M"
      },
      "source": [
        "def sentence_similarity(sent1, sent2, stopwords=None):\n",
        "    if stopwords is None:\n",
        "        stopwords = []\n",
        " \n",
        "    sent1 = [w.lower() for w in sent1]\n",
        "    sent2 = [w.lower() for w in sent2]\n",
        " \n",
        "    all_words = list(set(sent1 + sent2))\n",
        " \n",
        "    vector1 = [0] * len(all_words)\n",
        "    vector2 = [0] * len(all_words)\n",
        " \n",
        "    \n",
        "    for w in sent1:\n",
        "        if w in stopwords:\n",
        "            continue\n",
        "        vector1[all_words.index(w)] += 1\n",
        " \n",
        "    \n",
        "    for w in sent2:\n",
        "        if w in stopwords:\n",
        "            continue\n",
        "        vector2[all_words.index(w)] += 1\n",
        " \n",
        "    return 1 - cosine_distance(vector1, vector2)"
      ],
      "execution_count": null,
      "outputs": []
    },
    {
      "cell_type": "code",
      "metadata": {
        "id": "0FjiyV2HA1-2"
      },
      "source": [
        "def build_similarity_matrix(sentences, stop_words):\n",
        "    \n",
        "    similarity_matrix = np.zeros((len(sentences), len(sentences)))\n",
        " \n",
        "    for idx1 in range(len(sentences)):\n",
        "        for idx2 in range(len(sentences)):\n",
        "            if idx1 == idx2: #ignore if both are same sentences\n",
        "                continue \n",
        "            similarity_matrix[idx1][idx2] = sentence_similarity(sentences[idx1], sentences[idx2], stop_words)\n",
        "\n",
        "    return similarity_matrix"
      ],
      "execution_count": null,
      "outputs": []
    },
    {
      "cell_type": "code",
      "metadata": {
        "id": "t7NRAUWvAq1s"
      },
      "source": [
        "def generate_summary(file_name, top_n=5):\n",
        "    stop_words = stopwords.words('english')\n",
        "    summarize_text = []\n",
        "\n",
        "    \n",
        "    sentences =  read_article(file_name)\n",
        "    \n",
        "    sentence_similarity_martix = build_similarity_matrix(sentences, stop_words)\n",
        "\n",
        "    sentence_similarity_graph = nx.from_numpy_array(sentence_similarity_martix)\n",
        "    scores = nx.pagerank(sentence_similarity_graph)\n",
        "\n",
        "    ranked_sentence = sorted(((scores[i],s) for i,s in enumerate(sentences)), reverse=True)    \n",
        "    print(\"Indexes of top ranked_sentence order are \", ranked_sentence)    \n",
        "\n",
        "    for i in range(top_n):\n",
        "      summarize_text.append(\" \".join(ranked_sentence[i][1]))\n",
        "\n",
        "    print(\"Summarize Text: \\n\", \". \".join(summarize_text))\n"
      ],
      "execution_count": null,
      "outputs": []
    },
    {
      "cell_type": "code",
      "metadata": {
        "id": "vG9yTzVePBdu"
      },
      "source": [
        "generate_summary(\"new_test.txt\", 8)"
      ],
      "execution_count": null,
      "outputs": []
    },
    {
      "cell_type": "code",
      "metadata": {
        "id": "DaZWuMdfs9Z6"
      },
      "source": [
        ""
      ],
      "execution_count": null,
      "outputs": []
    },
    {
      "cell_type": "markdown",
      "metadata": {
        "id": "CzbgZhi6s9wr"
      },
      "source": [
        "## **Pending - Encompassing and Deploying it as Flask Application**"
      ]
    },
    {
      "cell_type": "code",
      "metadata": {
        "id": "NlYPjwkOvIMe"
      },
      "source": [
        "!pip install flask-ngrok"
      ],
      "execution_count": null,
      "outputs": []
    },
    {
      "cell_type": "code",
      "metadata": {
        "id": "vFSf16qfPBgg"
      },
      "source": [
        "from flask import Flask, Response\n",
        "import requests\n",
        "from requests import *\n",
        "import base64\n",
        "import numpy as np\n",
        "import pandas as pd\n",
        "from summarizer import Summarizer\n",
        "from flask import Flask, jsonify, request\n",
        "from flask_ngrok import run_with_ngrok\n",
        "\n",
        "\n",
        "app = Flask(__name__)\n",
        "\n",
        "\n",
        "@app.route('/webhook')\n",
        "def Trigger():\n",
        "    text_data = 'Text mining is used to help us specific research questions.  You want to answer why cats sit on mats?  It would be impossible for you to read all the millions of research articles on the topic.  Your south here is where text money can help. It filters large amounts of research and extracts the relevant information, For example, In this instance, the program would identify. The cat is the inner city suburb and armies. The preposition.  It is not just a search tool. It can also understand that the cat is an animal it is in action and the man is an object. It then identifies and maps patents in trend across the millions of articles, for example, it can even tell us if most of the cats who sit on this detailed relevant information helps us determine what additional research is needed in order to answer our questions. So now we go back into the lab with a head start in order to do further research to find out the exact reason, although it might seem easy, text mining, the lot of different tools and resources to make this work find out more by viewing TDM video.'\n",
        "    def Bert_Sum(input_data):\n",
        "        model = Summarizer()\n",
        "        result = model(input_data, min_length=40, max_length=512)\n",
        "        summary_bert = \"\".join(result)\n",
        "        # print(\"The Summary of BERT Model is as follows:  \\n\")\n",
        "        print(summary_bert)\n",
        "        return (summary_bert)\n",
        "\n",
        "    Bert_Sum(text_data)\n",
        "\n",
        "\n",
        "app = Flask(__name__)\n",
        "run_with_ngrok(app)\n",
        "\n",
        "@app.route('/')\n",
        "def hello():\n",
        "    text_data = 'Text mining is used to help us specific research questions.  You want to answer why cats sit on mats?  It would be impossible for you to read all the millions of research articles on the topic.  Your south here is where text money can help. It filters large amounts of research and extracts the relevant information, For example, In this instance, the program would identify. The cat is the inner city suburb and armies. The preposition.  It is not just a search tool. It can also understand that the cat is an animal it is in action and the man is an object. It then identifies and maps patents in trend across the millions of articles, for example, it can even tell us if most of the cats who sit on this detailed relevant information helps us determine what additional research is needed in order to answer our questions. So now we go back into the lab with a head start in order to do further research to find out the exact reason, although it might seem easy, text mining, the lot of different tools and resources to make this work find out more by viewing TDM video.'\n",
        "    def Bert_Sum(input_data):\n",
        "        model = Summarizer()\n",
        "        result = model(input_data, min_length=40, max_length=512)\n",
        "        summary_bert = \"\".join(result)\n",
        "        # print(\"The Summary of BERT Model is as follows:  \\n\")\n",
        "        print(summary_bert)\n",
        "        \n",
        "\n",
        "    Bert_Sum(text_data)\n",
        "    return (summary_bert)\n",
        "\n",
        "if __name__ == '__main__':\n",
        "  app.run()\n"
      ],
      "execution_count": null,
      "outputs": []
    },
    {
      "cell_type": "code",
      "metadata": {
        "id": "b3_MekqaPBjt"
      },
      "source": [
        ""
      ],
      "execution_count": null,
      "outputs": []
    },
    {
      "cell_type": "code",
      "metadata": {
        "id": "_LP65vdyN4I4"
      },
      "source": [
        ""
      ],
      "execution_count": null,
      "outputs": []
    },
    {
      "cell_type": "code",
      "metadata": {
        "id": "pV-Adr41N4Mz"
      },
      "source": [
        ""
      ],
      "execution_count": null,
      "outputs": []
    }
  ]
}